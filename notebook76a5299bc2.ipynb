{
 "cells": [
  {
   "cell_type": "markdown",
   "id": "8b532642",
   "metadata": {
    "papermill": {
     "duration": 0.008145,
     "end_time": "2022-08-05T05:15:25.480769",
     "exception": false,
     "start_time": "2022-08-05T05:15:25.472624",
     "status": "completed"
    },
    "tags": []
   },
   "source": [
    "# <center>Linear Regression"
   ]
  },
  {
   "cell_type": "markdown",
   "id": "02164e5d",
   "metadata": {
    "papermill": {
     "duration": 0.006018,
     "end_time": "2022-08-05T05:15:25.493348",
     "exception": false,
     "start_time": "2022-08-05T05:15:25.487330",
     "status": "completed"
    },
    "tags": []
   },
   "source": [
    "**Jose E J**\n",
    "\n",
    "    Lead Analyst \n",
    "    Nsight \n",
    "\n",
    "    Student: M Sc in Data Analytics                 \n",
    "             Christ University Bangalore\n",
    "             Karnataka 560029"
   ]
  },
  {
   "cell_type": "markdown",
   "id": "991718f2",
   "metadata": {
    "papermill": {
     "duration": 0.006035,
     "end_time": "2022-08-05T05:15:25.506058",
     "exception": false,
     "start_time": "2022-08-05T05:15:25.500023",
     "status": "completed"
    },
    "tags": []
   },
   "source": [
    "## Importing Datasets "
   ]
  },
  {
   "cell_type": "code",
   "execution_count": 1,
   "id": "63b085df",
   "metadata": {
    "execution": {
     "iopub.execute_input": "2022-08-05T05:15:25.520837Z",
     "iopub.status.busy": "2022-08-05T05:15:25.520357Z",
     "iopub.status.idle": "2022-08-05T05:15:25.543944Z",
     "shell.execute_reply": "2022-08-05T05:15:25.542929Z"
    },
    "papermill": {
     "duration": 0.034066,
     "end_time": "2022-08-05T05:15:25.546504",
     "exception": false,
     "start_time": "2022-08-05T05:15:25.512438",
     "status": "completed"
    },
    "tags": []
   },
   "outputs": [],
   "source": [
    "import pandas as pd\n",
    "import numpy as np\n",
    "#data = {\"lm\":\"https://raw.githubusercontent.com/jose-ej/Datahouse/main/random%20test%20data%20for%20LM.csv\",\n",
    "        #\"mlr\":\"https://raw.githubusercontent.com/jose-ej/Datahouse/main/CarPrice_Assignment.csv\"} \n",
    "\n",
    "d1 = pd.read_csv(r'../input/linear-regression-dataset/Linear Regression - Sheet1.csv', index_col = None)\n",
    "#d2 = pd.read_csv(data[\"mlr\"], index_col = None)"
   ]
  },
  {
   "cell_type": "markdown",
   "id": "3bda0b67",
   "metadata": {
    "papermill": {
     "duration": 0.006146,
     "end_time": "2022-08-05T05:15:25.559239",
     "exception": false,
     "start_time": "2022-08-05T05:15:25.553093",
     "status": "completed"
    },
    "tags": []
   },
   "source": [
    "## Linear\n",
    "    It is a statistical model used to predict the relationship between independent and dependent variables denoted by x and y respectively.\n",
    "    \n",
    "__Examine 2 factors__\n",
    "\n",
    "__1. How closely are x and y related?__\n",
    "            \n",
    "          Linear regression gives a number between -1 and 1 indicating the strenght of correlation b/w two variables\n",
    "                    0: no correlation\n",
    "                    1: +ve correlation \n",
    "                   -1: -ve correlation\n",
    "                 \n",
    "__2. Prediction__\n",
    "\n",
    "    When the relationship b/w x and y is known, use this to predict future values of y for a value of x. this is done by fitting a regression liner and is represented by a linear equation:\n",
    "    \n",
    "    y = a*x+b (Critirion)\n",
    "                    \n"
   ]
  },
  {
   "cell_type": "markdown",
   "id": "2afaa621",
   "metadata": {
    "papermill": {
     "duration": 0.006144,
     "end_time": "2022-08-05T05:15:25.571765",
     "exception": false,
     "start_time": "2022-08-05T05:15:25.565621",
     "status": "completed"
    },
    "tags": []
   },
   "source": [
    "#### Practice Problem_1 \n",
    "    \n",
    "    Dataset: https://raw.githubusercontent.com/jose-ej/Datahouse/main/random%20test%20data%20for%20LM.csv\n",
    "    Dataset stored to d1 for lm model "
   ]
  },
  {
   "cell_type": "code",
   "execution_count": 2,
   "id": "0098daf4",
   "metadata": {
    "execution": {
     "iopub.execute_input": "2022-08-05T05:15:25.591642Z",
     "iopub.status.busy": "2022-08-05T05:15:25.589551Z",
     "iopub.status.idle": "2022-08-05T05:15:25.613192Z",
     "shell.execute_reply": "2022-08-05T05:15:25.612311Z"
    },
    "papermill": {
     "duration": 0.03834,
     "end_time": "2022-08-05T05:15:25.616601",
     "exception": false,
     "start_time": "2022-08-05T05:15:25.578261",
     "status": "completed"
    },
    "tags": []
   },
   "outputs": [
    {
     "data": {
      "text/html": [
       "<div>\n",
       "<style scoped>\n",
       "    .dataframe tbody tr th:only-of-type {\n",
       "        vertical-align: middle;\n",
       "    }\n",
       "\n",
       "    .dataframe tbody tr th {\n",
       "        vertical-align: top;\n",
       "    }\n",
       "\n",
       "    .dataframe thead th {\n",
       "        text-align: right;\n",
       "    }\n",
       "</style>\n",
       "<table border=\"1\" class=\"dataframe\">\n",
       "  <thead>\n",
       "    <tr style=\"text-align: right;\">\n",
       "      <th></th>\n",
       "      <th>X</th>\n",
       "      <th>Y</th>\n",
       "    </tr>\n",
       "  </thead>\n",
       "  <tbody>\n",
       "    <tr>\n",
       "      <th>0</th>\n",
       "      <td>1</td>\n",
       "      <td>3.888889</td>\n",
       "    </tr>\n",
       "    <tr>\n",
       "      <th>1</th>\n",
       "      <td>2</td>\n",
       "      <td>4.555556</td>\n",
       "    </tr>\n",
       "    <tr>\n",
       "      <th>2</th>\n",
       "      <td>3</td>\n",
       "      <td>5.222222</td>\n",
       "    </tr>\n",
       "    <tr>\n",
       "      <th>3</th>\n",
       "      <td>4</td>\n",
       "      <td>5.888889</td>\n",
       "    </tr>\n",
       "    <tr>\n",
       "      <th>4</th>\n",
       "      <td>5</td>\n",
       "      <td>6.555556</td>\n",
       "    </tr>\n",
       "  </tbody>\n",
       "</table>\n",
       "</div>"
      ],
      "text/plain": [
       "   X         Y\n",
       "0  1  3.888889\n",
       "1  2  4.555556\n",
       "2  3  5.222222\n",
       "3  4  5.888889\n",
       "4  5  6.555556"
      ]
     },
     "execution_count": 2,
     "metadata": {},
     "output_type": "execute_result"
    }
   ],
   "source": [
    "d1.head()"
   ]
  },
  {
   "cell_type": "markdown",
   "id": "588641aa",
   "metadata": {
    "papermill": {
     "duration": 0.007589,
     "end_time": "2022-08-05T05:15:25.632109",
     "exception": false,
     "start_time": "2022-08-05T05:15:25.624520",
     "status": "completed"
    },
    "tags": []
   },
   "source": [
    "#### Correlation b/w  (x,y)\n"
   ]
  },
  {
   "cell_type": "code",
   "execution_count": 3,
   "id": "780bd7dd",
   "metadata": {
    "execution": {
     "iopub.execute_input": "2022-08-05T05:15:25.652817Z",
     "iopub.status.busy": "2022-08-05T05:15:25.651735Z",
     "iopub.status.idle": "2022-08-05T05:15:25.668140Z",
     "shell.execute_reply": "2022-08-05T05:15:25.666831Z"
    },
    "papermill": {
     "duration": 0.028505,
     "end_time": "2022-08-05T05:15:25.671610",
     "exception": false,
     "start_time": "2022-08-05T05:15:25.643105",
     "status": "completed"
    },
    "tags": []
   },
   "outputs": [
    {
     "data": {
      "text/html": [
       "<div>\n",
       "<style scoped>\n",
       "    .dataframe tbody tr th:only-of-type {\n",
       "        vertical-align: middle;\n",
       "    }\n",
       "\n",
       "    .dataframe tbody tr th {\n",
       "        vertical-align: top;\n",
       "    }\n",
       "\n",
       "    .dataframe thead th {\n",
       "        text-align: right;\n",
       "    }\n",
       "</style>\n",
       "<table border=\"1\" class=\"dataframe\">\n",
       "  <thead>\n",
       "    <tr style=\"text-align: right;\">\n",
       "      <th></th>\n",
       "      <th>X</th>\n",
       "      <th>Y</th>\n",
       "    </tr>\n",
       "  </thead>\n",
       "  <tbody>\n",
       "    <tr>\n",
       "      <th>X</th>\n",
       "      <td>1.000000</td>\n",
       "      <td>0.959876</td>\n",
       "    </tr>\n",
       "    <tr>\n",
       "      <th>Y</th>\n",
       "      <td>0.959876</td>\n",
       "      <td>1.000000</td>\n",
       "    </tr>\n",
       "  </tbody>\n",
       "</table>\n",
       "</div>"
      ],
      "text/plain": [
       "          X         Y\n",
       "X  1.000000  0.959876\n",
       "Y  0.959876  1.000000"
      ]
     },
     "execution_count": 3,
     "metadata": {},
     "output_type": "execute_result"
    }
   ],
   "source": [
    "d1.corr()"
   ]
  },
  {
   "cell_type": "markdown",
   "id": "d90b79cb",
   "metadata": {
    "papermill": {
     "duration": 0.008536,
     "end_time": "2022-08-05T05:15:25.688449",
     "exception": false,
     "start_time": "2022-08-05T05:15:25.679913",
     "status": "completed"
    },
    "tags": []
   },
   "source": [
    "#### Graphical Reprsentaion of x and y"
   ]
  },
  {
   "cell_type": "code",
   "execution_count": 4,
   "id": "3cd5bc07",
   "metadata": {
    "execution": {
     "iopub.execute_input": "2022-08-05T05:15:25.706116Z",
     "iopub.status.busy": "2022-08-05T05:15:25.705684Z",
     "iopub.status.idle": "2022-08-05T05:15:25.906507Z",
     "shell.execute_reply": "2022-08-05T05:15:25.905371Z"
    },
    "papermill": {
     "duration": 0.211568,
     "end_time": "2022-08-05T05:15:25.908924",
     "exception": false,
     "start_time": "2022-08-05T05:15:25.697356",
     "status": "completed"
    },
    "tags": []
   },
   "outputs": [
    {
     "data": {
      "image/png": "[encoded data removed]",
      "text/plain": [
       "<Figure size 432x288 with 1 Axes>"
      ]
     },
     "metadata": {
      "needs_background": "light"
     },
     "output_type": "display_data"
    }
   ],
   "source": [
    "import matplotlib.pyplot as plt\n",
    "\n",
    "g1 = plt.scatter(d1[\"X\"],d1[\"Y\"])"
   ]
  },
  {
   "cell_type": "markdown",
   "id": "d70121c1",
   "metadata": {
    "papermill": {
     "duration": 0.006733,
     "end_time": "2022-08-05T05:15:25.922605",
     "exception": false,
     "start_time": "2022-08-05T05:15:25.915872",
     "status": "completed"
    },
    "tags": []
   },
   "source": [
    "#### Import packages"
   ]
  },
  {
   "cell_type": "code",
   "execution_count": 5,
   "id": "6ecb86ae",
   "metadata": {
    "execution": {
     "iopub.execute_input": "2022-08-05T05:15:25.939101Z",
     "iopub.status.busy": "2022-08-05T05:15:25.938691Z",
     "iopub.status.idle": "2022-08-05T05:15:27.121484Z",
     "shell.execute_reply": "2022-08-05T05:15:27.120254Z"
    },
    "papermill": {
     "duration": 1.1951,
     "end_time": "2022-08-05T05:15:27.124616",
     "exception": false,
     "start_time": "2022-08-05T05:15:25.929516",
     "status": "completed"
    },
    "tags": []
   },
   "outputs": [],
   "source": [
    "from sklearn.linear_model import LinearRegression"
   ]
  },
  {
   "cell_type": "markdown",
   "id": "8a4df574",
   "metadata": {
    "papermill": {
     "duration": 0.006558,
     "end_time": "2022-08-05T05:15:27.138141",
     "exception": false,
     "start_time": "2022-08-05T05:15:27.131583",
     "status": "completed"
    },
    "tags": []
   },
   "source": [
    "#### The inputs\n",
    "\n",
    "        (regressors, 𝑥) and output (response, 𝑦) should be arrays or similar objects. Now, you have two arrays: the input, x, and the output, y. You should call .reshape() on x because this array must be two-dimensional, or more precisely, it must have one column and as many rows as necessary. That’s exactly what the argument (-1, 1) of .reshape() specifies."
   ]
  },
  {
   "cell_type": "code",
   "execution_count": 6,
   "id": "a93d99bd",
   "metadata": {
    "execution": {
     "iopub.execute_input": "2022-08-05T05:15:27.154435Z",
     "iopub.status.busy": "2022-08-05T05:15:27.153606Z",
     "iopub.status.idle": "2022-08-05T05:15:27.159532Z",
     "shell.execute_reply": "2022-08-05T05:15:27.158658Z"
    },
    "papermill": {
     "duration": 0.017003,
     "end_time": "2022-08-05T05:15:27.162015",
     "exception": false,
     "start_time": "2022-08-05T05:15:27.145012",
     "status": "completed"
    },
    "tags": []
   },
   "outputs": [],
   "source": [
    "x = np.array(d1[\"X\"]).reshape(-1,1)\n",
    "y = np.array(d1[\"Y\"]).reshape(-1,1)"
   ]
  },
  {
   "cell_type": "markdown",
   "id": "0041e63f",
   "metadata": {
    "papermill": {
     "duration": 0.006584,
     "end_time": "2022-08-05T05:15:27.175589",
     "exception": false,
     "start_time": "2022-08-05T05:15:27.169005",
     "status": "completed"
    },
    "tags": []
   },
   "source": [
    "#### Create a model and fit it"
   ]
  },
  {
   "cell_type": "code",
   "execution_count": 7,
   "id": "e0bee504",
   "metadata": {
    "execution": {
     "iopub.execute_input": "2022-08-05T05:15:27.192052Z",
     "iopub.status.busy": "2022-08-05T05:15:27.191253Z",
     "iopub.status.idle": "2022-08-05T05:15:27.209145Z",
     "shell.execute_reply": "2022-08-05T05:15:27.208125Z"
    },
    "papermill": {
     "duration": 0.029192,
     "end_time": "2022-08-05T05:15:27.211680",
     "exception": false,
     "start_time": "2022-08-05T05:15:27.182488",
     "status": "completed"
    },
    "tags": []
   },
   "outputs": [],
   "source": [
    "#model = LinearRegression()\n",
    "#model.fit(x, y)\n",
    "\n",
    "#or \n",
    "model = LinearRegression().fit(x, y)"
   ]
  },
  {
   "cell_type": "markdown",
   "id": "199abf3c",
   "metadata": {
    "papermill": {
     "duration": 0.0067,
     "end_time": "2022-08-05T05:15:27.225539",
     "exception": false,
     "start_time": "2022-08-05T05:15:27.218839",
     "status": "completed"
    },
    "tags": []
   },
   "source": [
    "#### Get results\n",
    "        Once you have your model fitted, you can get the results to check whether the model works satisfactorily and to interpret it. You can obtain the coefficient of determination, 𝑅², with .score() called on model:"
   ]
  },
  {
   "cell_type": "markdown",
   "id": "f34f342b",
   "metadata": {
    "papermill": {
     "duration": 0.006673,
     "end_time": "2022-08-05T05:15:27.239166",
     "exception": false,
     "start_time": "2022-08-05T05:15:27.232493",
     "status": "completed"
    },
    "tags": []
   },
   "source": [
    "#### coefficient of determination"
   ]
  },
  {
   "cell_type": "code",
   "execution_count": 8,
   "id": "9b874bc9",
   "metadata": {
    "execution": {
     "iopub.execute_input": "2022-08-05T05:15:27.254937Z",
     "iopub.status.busy": "2022-08-05T05:15:27.254493Z",
     "iopub.status.idle": "2022-08-05T05:15:27.261617Z",
     "shell.execute_reply": "2022-08-05T05:15:27.260374Z"
    },
    "papermill": {
     "duration": 0.017688,
     "end_time": "2022-08-05T05:15:27.263852",
     "exception": false,
     "start_time": "2022-08-05T05:15:27.246164",
     "status": "completed"
    },
    "tags": []
   },
   "outputs": [
    {
     "name": "stdout",
     "output_type": "stream",
     "text": [
      "coefficient of determination: 0.9213615685311795\n"
     ]
    }
   ],
   "source": [
    "r_sq = model.score(x,y)\n",
    "print(f\"coefficient of determination: {r_sq}\")"
   ]
  },
  {
   "cell_type": "markdown",
   "id": "4445959b",
   "metadata": {
    "papermill": {
     "duration": 0.006804,
     "end_time": "2022-08-05T05:15:27.278109",
     "exception": false,
     "start_time": "2022-08-05T05:15:27.271305",
     "status": "completed"
    },
    "tags": []
   },
   "source": [
    "#### The attributes of model are.\n",
    "    intercept_, which represents the coefficient 𝑏₀, and .coef_, which represents 𝑏₁:\n",
    "\n",
    "__intercept__"
   ]
  },
  {
   "cell_type": "code",
   "execution_count": 9,
   "id": "01ae3cbd",
   "metadata": {
    "execution": {
     "iopub.execute_input": "2022-08-05T05:15:27.294108Z",
     "iopub.status.busy": "2022-08-05T05:15:27.293358Z",
     "iopub.status.idle": "2022-08-05T05:15:27.300707Z",
     "shell.execute_reply": "2022-08-05T05:15:27.298988Z"
    },
    "papermill": {
     "duration": 0.018207,
     "end_time": "2022-08-05T05:15:27.303275",
     "exception": false,
     "start_time": "2022-08-05T05:15:27.285068",
     "status": "completed"
    },
    "tags": []
   },
   "outputs": [
    {
     "name": "stdout",
     "output_type": "stream",
     "text": [
      "intercept: [5.8887997]\n"
     ]
    }
   ],
   "source": [
    "print(f\"intercept: {model.intercept_}\")"
   ]
  },
  {
   "cell_type": "markdown",
   "id": "3bce0f85",
   "metadata": {
    "papermill": {
     "duration": 0.006825,
     "end_time": "2022-08-05T05:15:27.317261",
     "exception": false,
     "start_time": "2022-08-05T05:15:27.310436",
     "status": "completed"
    },
    "tags": []
   },
   "source": [
    "#### slope"
   ]
  },
  {
   "cell_type": "code",
   "execution_count": 10,
   "id": "4fc8c909",
   "metadata": {
    "execution": {
     "iopub.execute_input": "2022-08-05T05:15:27.333239Z",
     "iopub.status.busy": "2022-08-05T05:15:27.332808Z",
     "iopub.status.idle": "2022-08-05T05:15:27.339075Z",
     "shell.execute_reply": "2022-08-05T05:15:27.337953Z"
    },
    "papermill": {
     "duration": 0.016978,
     "end_time": "2022-08-05T05:15:27.341320",
     "exception": false,
     "start_time": "2022-08-05T05:15:27.324342",
     "status": "completed"
    },
    "tags": []
   },
   "outputs": [
    {
     "name": "stdout",
     "output_type": "stream",
     "text": [
      "slope: [[0.64004489]]\n"
     ]
    }
   ],
   "source": [
    "print(f\"slope: {model.coef_}\")"
   ]
  },
  {
   "cell_type": "markdown",
   "id": "daccc5a3",
   "metadata": {
    "papermill": {
     "duration": 0.006881,
     "end_time": "2022-08-05T05:15:27.355309",
     "exception": false,
     "start_time": "2022-08-05T05:15:27.348428",
     "status": "completed"
    },
    "tags": []
   },
   "source": [
    "#### Predict response\n",
    "    Once you have a satisfactory model, then you can use it for predictions with either existing or new data. To obtain the predicted response, use .predict():"
   ]
  },
  {
   "cell_type": "code",
   "execution_count": 11,
   "id": "87bd1464",
   "metadata": {
    "execution": {
     "iopub.execute_input": "2022-08-05T05:15:27.371119Z",
     "iopub.status.busy": "2022-08-05T05:15:27.370698Z",
     "iopub.status.idle": "2022-08-05T05:15:27.376447Z",
     "shell.execute_reply": "2022-08-05T05:15:27.375198Z"
    },
    "papermill": {
     "duration": 0.016475,
     "end_time": "2022-08-05T05:15:27.378835",
     "exception": false,
     "start_time": "2022-08-05T05:15:27.362360",
     "status": "completed"
    },
    "tags": []
   },
   "outputs": [],
   "source": [
    "y_pred = model.predict(x)\n",
    "#print(f\"predicted response:\\n{y_pred}\")\n",
    "#y_pred = model.intercept_ + model.coef_ * x\n"
   ]
  },
  {
   "cell_type": "markdown",
   "id": "f058e497",
   "metadata": {
    "papermill": {
     "duration": 0.006813,
     "end_time": "2022-08-05T05:15:27.393140",
     "exception": false,
     "start_time": "2022-08-05T05:15:27.386327",
     "status": "completed"
    },
    "tags": []
   },
   "source": [
    "#### Test Tool\n",
    "     Here you can test your input and output relation manually. "
   ]
  },
  {
   "cell_type": "code",
   "execution_count": 12,
   "id": "abacbac5",
   "metadata": {
    "execution": {
     "iopub.execute_input": "2022-08-05T05:15:27.409098Z",
     "iopub.status.busy": "2022-08-05T05:15:27.408691Z",
     "iopub.status.idle": "2022-08-05T05:15:27.415436Z",
     "shell.execute_reply": "2022-08-05T05:15:27.414234Z"
    },
    "papermill": {
     "duration": 0.017711,
     "end_time": "2022-08-05T05:15:27.417862",
     "exception": false,
     "start_time": "2022-08-05T05:15:27.400151",
     "status": "completed"
    },
    "tags": []
   },
   "outputs": [
    {
     "name": "stdout",
     "output_type": "stream",
     "text": [
      "predicted response over test:\n",
      "[[19.96978727]]\n"
     ]
    }
   ],
   "source": [
    "x_test = np.array(22).reshape(-1,1)\n",
    "\n",
    "y_pred_test = model.predict(x_test)\n",
    "print(f\"predicted response over test:\\n{y_pred_test}\")"
   ]
  },
  {
   "cell_type": "code",
   "execution_count": 13,
   "id": "4f8a3e06",
   "metadata": {
    "execution": {
     "iopub.execute_input": "2022-08-05T05:15:27.434730Z",
     "iopub.status.busy": "2022-08-05T05:15:27.433938Z",
     "iopub.status.idle": "2022-08-05T05:15:27.448735Z",
     "shell.execute_reply": "2022-08-05T05:15:27.447779Z"
    },
    "papermill": {
     "duration": 0.025774,
     "end_time": "2022-08-05T05:15:27.450880",
     "exception": false,
     "start_time": "2022-08-05T05:15:27.425106",
     "status": "completed"
    },
    "tags": []
   },
   "outputs": [
    {
     "data": {
      "text/html": [
       "<div>\n",
       "<style scoped>\n",
       "    .dataframe tbody tr th:only-of-type {\n",
       "        vertical-align: middle;\n",
       "    }\n",
       "\n",
       "    .dataframe tbody tr th {\n",
       "        vertical-align: top;\n",
       "    }\n",
       "\n",
       "    .dataframe thead th {\n",
       "        text-align: right;\n",
       "    }\n",
       "</style>\n",
       "<table border=\"1\" class=\"dataframe\">\n",
       "  <thead>\n",
       "    <tr style=\"text-align: right;\">\n",
       "      <th></th>\n",
       "      <th>X</th>\n",
       "      <th>Y</th>\n",
       "      <th>y_pred</th>\n",
       "      <th>Y - y_pred</th>\n",
       "    </tr>\n",
       "  </thead>\n",
       "  <tbody>\n",
       "    <tr>\n",
       "      <th>0</th>\n",
       "      <td>1</td>\n",
       "      <td>3.888889</td>\n",
       "      <td>6.528845</td>\n",
       "      <td>-2.639956</td>\n",
       "    </tr>\n",
       "    <tr>\n",
       "      <th>1</th>\n",
       "      <td>2</td>\n",
       "      <td>4.555556</td>\n",
       "      <td>7.168889</td>\n",
       "      <td>-2.613334</td>\n",
       "    </tr>\n",
       "    <tr>\n",
       "      <th>2</th>\n",
       "      <td>3</td>\n",
       "      <td>5.222222</td>\n",
       "      <td>7.808934</td>\n",
       "      <td>-2.586712</td>\n",
       "    </tr>\n",
       "    <tr>\n",
       "      <th>3</th>\n",
       "      <td>4</td>\n",
       "      <td>5.888889</td>\n",
       "      <td>8.448979</td>\n",
       "      <td>-2.560090</td>\n",
       "    </tr>\n",
       "    <tr>\n",
       "      <th>4</th>\n",
       "      <td>5</td>\n",
       "      <td>6.555556</td>\n",
       "      <td>9.089024</td>\n",
       "      <td>-2.533469</td>\n",
       "    </tr>\n",
       "  </tbody>\n",
       "</table>\n",
       "</div>"
      ],
      "text/plain": [
       "   X         Y    y_pred  Y - y_pred\n",
       "0  1  3.888889  6.528845   -2.639956\n",
       "1  2  4.555556  7.168889   -2.613334\n",
       "2  3  5.222222  7.808934   -2.586712\n",
       "3  4  5.888889  8.448979   -2.560090\n",
       "4  5  6.555556  9.089024   -2.533469"
      ]
     },
     "execution_count": 13,
     "metadata": {},
     "output_type": "execute_result"
    }
   ],
   "source": [
    "if len(y_pred)-len(y) ==0:\n",
    "    index = range(0,len(y))\n",
    "else:\n",
    "    print(\"Index out of range\")\n",
    "    \n",
    "    \n",
    "Predication_table = pd.DataFrame({'X':x.reshape(len(y)),\n",
    "                                  'Y':y.reshape(len(y)),\n",
    "                                  'y_pred': y_pred.reshape(len(y)),\n",
    "                                  'Y - y_pred': y.reshape(len(y))- y_pred.reshape(len(y)) },\n",
    "                                 index = index)\n",
    "Predication_table.head()"
   ]
  },
  {
   "cell_type": "markdown",
   "id": "b155b026",
   "metadata": {
    "papermill": {
     "duration": 0.007117,
     "end_time": "2022-08-05T05:15:27.465344",
     "exception": false,
     "start_time": "2022-08-05T05:15:27.458227",
     "status": "completed"
    },
    "tags": []
   },
   "source": [
    "##### <center> >>>>>>>>>>>>>>>>End of Simple Linear Regression <<<<<<<<<<<<<<< "
   ]
  }
 ],
 "metadata": {
  "kernelspec": {
   "display_name": "Python 3",
   "language": "python",
   "name": "python3"
  },
  "language_info": {
   "codemirror_mode": {
    "name": "ipython",
    "version": 3
   },
   "file_extension": ".py",
   "mimetype": "text/x-python",
   "name": "python",
   "nbconvert_exporter": "python",
   "pygments_lexer": "ipython3",
   "version": "3.7.12"
  },
  "papermill": {
   "default_parameters": {},
   "duration": 12.685023,
   "end_time": "2022-08-05T05:15:28.295504",
   "environment_variables": {},
   "exception": null,
   "input_path": "__notebook__.ipynb",
   "output_path": "__notebook__.ipynb",
   "parameters": {},
   "start_time": "2022-08-05T05:15:15.610481",
   "version": "2.3.4"
  }
 },
 "nbformat": 4,
 "nbformat_minor": 5
}
